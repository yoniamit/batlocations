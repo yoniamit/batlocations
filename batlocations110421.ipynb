{
  "nbformat": 4,
  "nbformat_minor": 0,
  "metadata": {
    "colab": {
      "name": "Copy of Copy of find basket.ipynb",
      "provenance": [],
      "collapsed_sections": [],
      "include_colab_link": true
    },
    "kernelspec": {
      "name": "python3",
      "display_name": "Python 3"
    }
  },
  "cells": [
    {
      "cell_type": "markdown",
      "metadata": {
        "id": "view-in-github",
        "colab_type": "text"
      },
      "source": [
        "<a href=\"https://colab.research.google.com/github/yoniamit/batlocations/blob/main/batlocations110421.ipynb\" target=\"_parent\"><img src=\"https://colab.research.google.com/assets/colab-badge.svg\" alt=\"Open In Colab\"/></a>"
      ]
    },
    {
      "cell_type": "code",
      "metadata": {
        "colab": {
          "base_uri": "https://localhost:8080/"
        },
        "id": "2vizeIq2pgMA",
        "outputId": "a1d59a57-02ba-4e2e-922f-062c2bdf77e9"
      },
      "source": [
        "from google.colab import drive\n",
        "drive.mount('/content/drive')"
      ],
      "execution_count": 169,
      "outputs": [
        {
          "output_type": "stream",
          "text": [
            "Drive already mounted at /content/drive; to attempt to forcibly remount, call drive.mount(\"/content/drive\", force_remount=True).\n"
          ],
          "name": "stdout"
        }
      ]
    },
    {
      "cell_type": "code",
      "metadata": {
        "id": "dgil14Kj1YnQ"
      },
      "source": [
        "#Imports\n",
        "import math\n",
        "from datetime import datetime\n",
        "import matplotlib.pyplot as plt\n",
        "import numpy as np\n",
        "from sklearn.mixture import GaussianMixture\n",
        "from scipy.interpolate import interp1d\n",
        "from sklearn.linear_model import LinearRegression\n",
        "\n",
        "#Definations\n",
        "\n",
        "xlb = 320.0  # x left basket\n",
        "ylb = 410.0  # y left basket\n",
        "xrb = 420.0  # x right basket\n",
        "yrb = 60.0  # y right basket\n",
        "basketradius = 40.0  # distance from the center of the basket which count as \"IN\"\n",
        "accuracy_limit = 0.0  # Value for accuracy check \n",
        "\n",
        "nans_tresh  = 0.3\n",
        "per_unit = 6000\n",
        "gmmcomp = 3\n",
        "tresh_sleep_distance = 10\n",
        "\n",
        "#data_read_path = \"/content/drive/MyDrive/Python files/20210311-161231IrTimes.txt\" #path_of data to read\n",
        "#data_read_path = \"/content/drive/MyDrive/Python files/20210104-170423IrTimes.txt\"\n",
        "\n",
        "data_read_path = []\n",
        "dict_of_info = []\n",
        "\n",
        "data_read_path.append(\"/content/drive/MyDrive/Python files/20210201-202753IrTimes.txt\")\n",
        "dict_of_info.append({1:20493, 2 :20528, 4 :20516, 5 :20488})\n",
        "\n",
        "data_read_path.append( \"/content/drive/MyDrive/Python files/20210207-154302IrTimes.txt\")\n",
        "dict_of_info.append( {0: 20547, 1: 20493, 3: 62438, 4: 20516, 5: 20488})\n",
        "\n",
        "data_read_path.append( \"/content/drive/MyDrive/Python files/20210215-105316IrTimes.txt\")\n",
        "dict_of_info.append({0 :  20547 ,1 :  20493,3 :  62438 ,4 :  20516,5  : 20488})\n",
        "\n",
        "data_read_path.append(\"/content/drive/MyDrive/Python files/20210223-205817IrTimes.txt\")\n",
        "dict_of_info.append({3 : 62438 ,4 : 20516,1 : 20528,2 : 20493 ,5 : 20522  ,0:  20547})\n",
        "\n",
        "data_read_path.append(\"/content/drive/MyDrive/Python files/20210302-160001IrTimes.txt\")\n",
        "dict_of_info.append({0 :20632,1 :20616,2 :20513,3 :20488,4 :20529,5 :20595 })\n",
        "\n",
        "data_read_path.append( \"/content/drive/MyDrive/Python files/20210311-161231IrTimes.txt\")\n",
        "dict_of_info.append({0:20632, 1:20547, 2:20522, 3:20488, 4:20453, 5:20595})\n",
        "\n",
        "\n",
        "data_read_path.append( \"/content/drive/MyDrive/Python files/20210330-135215IrTimes.txt\")\n",
        "dict_of_info.append({0:20547, 1:20493, 3:62438, 4:20516 , 5:20488})\n",
        "\n",
        "\n",
        "dict_of_colony = {\n",
        "20595:\t(140,92),\n",
        "20632:\t(185,94),\n",
        "20522:\t(160,91),\n",
        "20516:\t(142,92),\n",
        "20493:\t(190,94),\n",
        "20616:\t(180,94),\n",
        "20513:\t(125,89),\n",
        "20488:\t(125,91),\n",
        "20528:\t(110,88),\n",
        "20457:\t(90,82),\n",
        "62438:\t(165,87),\n",
        "20592:\t(140,95),\n",
        "20529:\t(62,75),\n",
        "20453:\t(170,-1) }\n",
        "\n",
        "def nan_helper(y):\n",
        "    return np.isnan(y), lambda z: z.nonzero()[0]\n"
      ],
      "execution_count": 170,
      "outputs": []
    },
    {
      "cell_type": "code",
      "metadata": {
        "id": "7eiui7K7HyPb"
      },
      "source": [
        ""
      ],
      "execution_count": 170,
      "outputs": []
    },
    {
      "cell_type": "markdown",
      "metadata": {
        "id": "xdLqthFcSGmd"
      },
      "source": [
        ""
      ]
    },
    {
      "cell_type": "code",
      "metadata": {
        "id": "kX5feDbtIeZs"
      },
      "source": [
        "def load_raw_file(mypath):\n",
        "  f = open(mypath, \"r\")\n",
        "  data = Lines = f.readlines()\n",
        "  list_locations = []\n",
        "  \n",
        "  for line in data:\n",
        "      columns = line.split(\",\")\n",
        "      #print(columns[13] + \" \" + columns[14])\n",
        "\n",
        "      xydata = columns[14].split(\" \")\n",
        "      xydata = [x for x in xydata if x]\n",
        "      xy_accuracy_data = columns[15].split(\" \")  # הוספתי\n",
        "      xy_accuracy_data = [x for x in xy_accuracy_data if x]  # הוספתי\n",
        "      if (len(xydata) != 2) or (len(xy_accuracy_data) != 2):  # הוספתי\n",
        "          continue\n",
        "\n",
        "      x_accuracy_data = (float(xy_accuracy_data[0].replace(\"[\", \"\").replace(\"]\", \"\")))  # הוספתי\n",
        "      y_accuracy_data = (float(xy_accuracy_data[1].replace(\"[\", \"\").replace(\"]\", \"\")))  # הוספתי\n",
        "      if (y_accuracy_data > accuracy_limit) or (x_accuracy_data > accuracy_limit):  # הוספתי\n",
        "          continue\n",
        "\n",
        "      x = (float(xydata[0].replace(\"[\", \"\").replace(\"]\", \"\")))\n",
        "      y = (float(xydata[1].replace(\"[\", \"\").replace(\"]\", \"\")))\n",
        "      dt = datetime.strptime(columns[0] + \" \" + columns[1] ,  \"%Y%m%d %H%M%S\").timestamp()  #20210104\n",
        "      t = np.array([int(columns[13]), dt, x, y])\n",
        "      list_locations += [t]\n",
        "\n",
        "  list_array = np.array(list_locations)\n",
        "\n",
        "  f.close()\n",
        "\n",
        "  print(\"Done! func1!\")\n",
        "\n",
        "  return list_array\n",
        "\n",
        "\n",
        "\n"
      ],
      "execution_count": 171,
      "outputs": []
    },
    {
      "cell_type": "code",
      "metadata": {
        "id": "s2zy5_JqPOSE"
      },
      "source": [
        "def time_arrange_data(list_array):\n",
        "  t = 0\n",
        "  minimum_time = np.min(list_array[:,1])\n",
        "  maximum_time = np.max(list_array[:,1])\n",
        "  time_now = minimum_time\n",
        "  list_tag = np.unique(list_array[:,0])\n",
        "  main_data = np.zeros((len(list_tag),int((maximum_time-minimum_time)/per_unit), 2))\n",
        "\n",
        "\n",
        "\n",
        "\n",
        "  print(list_array[:,1])\n",
        "  print(minimum_time, maximum_time)\n",
        "  print(type(list_tag[0]))\n",
        "\n",
        "  tagids  = list_array[:,0]\n",
        "  dates = list_array[:,1]\n",
        "\n",
        "\n",
        "  while time_now <= (maximum_time - per_unit):\n",
        "    for a in range(len(list_tag)):\n",
        "      main_data[a,t,:] = np.mean(list_array[(tagids == list_tag[a]) & (dates> time_now) & (dates< (time_now + per_unit)) ,2:4],axis = 0)\n",
        "    t += 1  \n",
        "    time_now += per_unit\n",
        "\n",
        "  tag_nans = np.zeros((len(list_tag)))\n",
        "  for a in range(len(list_tag)):\n",
        "    tag_nans[a] = len(main_data[a,np.isnan(main_data[a,:,0]),0])/len(main_data[a,:,0]) > nans_tresh \n",
        "\n",
        "  main_data = main_data[~tag_nans.astype(bool)]\n",
        "  list_tag = list_tag[~tag_nans.astype(bool)]\n",
        "\n",
        "\n",
        "  print(\"Done! func2!\")\n",
        "  #אינטרפולציות\n",
        "  for a in range(len(list_tag)):\n",
        "    y = main_data[a,:,:]\n",
        "    nans, x= nan_helper(y)\n",
        "    y[nans]= np.interp(x(nans), x(~nans), y[~nans])\n",
        "    main_data[a,:,:] = y\n",
        "  \n",
        "\n",
        "  return main_data, list_tag, minimum_time, maximum_time"
      ],
      "execution_count": 172,
      "outputs": []
    },
    {
      "cell_type": "code",
      "metadata": {
        "id": "8_1jRt0uidDc"
      },
      "source": [
        "\n",
        "def compute_distance_array(main_data, list_tag, minimum_time, maximum_time):\n",
        "  time_now = minimum_time\n",
        "  t = 0\n",
        "  distance_array = np.zeros((len(list_tag),int((maximum_time-minimum_time)/per_unit)))\n",
        "\n",
        "  while time_now <= (maximum_time - per_unit):\n",
        "    for a in range(len(list_tag)):\n",
        "      my_pos = main_data[a,t,:]\n",
        "      all_pos = main_data[:,t,:]\n",
        "      other_bats_pos = np.delete(all_pos,a, 0)\n",
        "      dist = []\n",
        "      for pos in other_bats_pos:\n",
        "        dist += [np.mean(np.linalg.norm(my_pos - pos))]\n",
        "      dist = np.array(dist)\n",
        "      dist = np.mean(dist)\n",
        "      distance_array[a,t] = dist\n",
        "    t += 1  \n",
        "    time_now += per_unit\n",
        "\n",
        "  \n",
        "  distance_array_in_zero = distance_array[0,:] < tresh_sleep_distance\n",
        "  for a in range(1, len(list_tag)):\n",
        "    distance_array_in_zero = (distance_array_in_zero &  (distance_array[a,:]<tresh_sleep_distance))\n",
        "  \n",
        "  return distance_array, distance_array_in_zero\n",
        "  \n",
        "  #plt.figure()\n",
        "  #plt.plot(distance_array_in_zero)\n",
        "  #plt.show()\n",
        "  #print(distance_array)"
      ],
      "execution_count": 173,
      "outputs": []
    },
    {
      "cell_type": "code",
      "metadata": {
        "id": "ri7oIwZpg9g0"
      },
      "source": [
        "\n",
        "\n"
      ],
      "execution_count": 173,
      "outputs": []
    },
    {
      "cell_type": "code",
      "metadata": {
        "id": "vG8gW63ekIXA"
      },
      "source": [
        "#מרחק שאני זזתי בקורולציה עם המרחק ששאר הקבוצה זזה\n",
        "def temp_function():\n",
        "  time_now = minimum_time + per_unit\n",
        "  t = 1\n",
        "  movment_array = np.zeros((len(list_tag),int((maximum_time-minimum_time)/per_unit)))\n",
        "\n",
        "  while time_now <= (maximum_time - per_unit):\n",
        "    for a in range(len(list_tag)):\n",
        "      my_pos = main_data[a,t,:]\n",
        "      my_prev_pos = main_data[a,t -1,:]\n",
        "      thedistance = np.linalg.norm(my_pos - my_prev_pos)\n",
        "      movment_array[a,t-1] = (thedistance )\n",
        "    t += 1  \n",
        "    time_now += per_unit\n",
        "\n",
        "  print(movment_array)\n",
        "  correlations = []\n",
        "  for a in range(len(list_tag)):\n",
        "    list_tag_temp = np.delete(np.array(range(len(list_tag))), a, 0).astype(int)\n",
        "    correlations.append(np.correlate(movment_array[a,:],np.mean(distance_array[list_tag_temp,:], axis=0)))\n",
        "    print(np.correlate(movment_array[a,:],np.mean(distance_array[list_tag_temp,:], axis=0)))"
      ],
      "execution_count": 174,
      "outputs": []
    },
    {
      "cell_type": "code",
      "metadata": {
        "id": "8Y7JIAaRpigq"
      },
      "source": [
        "#המרחק שאני זזתי בקורלציה למרחק של שאר הקבוצה ממני\n",
        "def movment_array_creat(main_data, list_tag, minimum_time, maximum_time):\n",
        "  time_now = minimum_time + per_unit\n",
        "  t = 1\n",
        "  movment_array = np.zeros((len(list_tag),int((maximum_time-minimum_time)/per_unit)))\n",
        "\n",
        "  while time_now <= (maximum_time - per_unit):\n",
        "    for a in range(len(list_tag)):\n",
        "      my_pos = main_data[a,t,:]\n",
        "      my_prev_pos = main_data[a,t -1,:]\n",
        "      thedistance = np.linalg.norm(my_pos - my_prev_pos)\n",
        "      movment_array[a,t-1] = (thedistance )\n",
        "    t += 1  \n",
        "    time_now += per_unit\n",
        "\n",
        "  return movment_array\n",
        "  \n",
        "def correlations_generator(movment_array, distance_array, distance_array_in_zero):  \n",
        "  correlations = []\n",
        "  for a in range(len(list_tag)):\n",
        "    correlations.append(np.correlate(movment_array[a,~distance_array_in_zero],distance_array[a,~distance_array_in_zero]))\n",
        "\n",
        "  correlations = np.array(correlations)\n",
        "  print(correlations)\n",
        "  print(list_tag)\n",
        "  correlations = correlations-np.min(correlations)\n",
        "  correlations= correlations/np.max(correlations)\n",
        "  print(correlations)\n",
        "  return correlations#"
      ],
      "execution_count": 175,
      "outputs": []
    },
    {
      "cell_type": "code",
      "metadata": {
        "id": "xa-zxtblIjlk"
      },
      "source": [
        "def GMM_compute(main_data, list_tag, minimum_time, maximum_time):\n",
        "  maindatashape = np.shape(main_data)\n",
        "  f = np.reshape([main_data[:,:,:] ] , (maindatashape[0]*maindatashape[1] , 2) )\n",
        "  gm = GaussianMixture(n_components=gmmcomp, random_state=0).fit( f )\n",
        "  print(gm.means_)\n",
        "  print(gm.weights_)\n",
        "\n",
        " # fig , axs= plt.subplots(len(list_tag) ,figsize=(20,20), sharey=True)\n",
        "  for a in range(len(list_tag)):\n",
        "      gmpred = gm.predict(main_data[a,:,:])\n",
        "      \n",
        "     # axs[a].set_title(\"dominance is : \" + str(correlations[a]))\n",
        "      #axs[a].hist(gmpred , bins = range(gmmcomp+1))\n",
        "      #fig.savefig('result1.png')\n",
        "  return gm"
      ],
      "execution_count": 176,
      "outputs": []
    },
    {
      "cell_type": "code",
      "metadata": {
        "id": "VQp9kj7bO73L"
      },
      "source": [
        "def get_correlations_places(main_data, list_tag, minimum_time, maximum_time,gm):\n",
        "  all_cor_for_pos_list = []\n",
        "  for p in range(gmmcomp):\n",
        "    cor_for_pos_list = []\n",
        "    for a in range(len(list_tag)):\n",
        "        gmpred = (gm.predict(main_data[a,:,:])   ).astype(int)\n",
        "        #plt.plot(gmpred )\n",
        "        cor_for_pos_list.append((correlations[a] , len(gmpred[gmpred==p])))\n",
        "    cor_for_pos_list = np.array(cor_for_pos_list)\n",
        "    gmmcount = cor_for_pos_list[:,1]\n",
        "    gmmcount = gmmcount - np.min(gmmcount)\n",
        "    gmmcount = gmmcount/np.max(gmmcount)\n",
        "    cor_for_pos_list[:,1] = gmmcount\n",
        "    all_cor_for_pos_list.append(cor_for_pos_list)\n",
        "  return np.array(all_cor_for_pos_list) \n",
        "  #fig.savefig('dominanceVsHome0.png')"
      ],
      "execution_count": 177,
      "outputs": []
    },
    {
      "cell_type": "code",
      "metadata": {
        "colab": {
          "base_uri": "https://localhost:8080/"
        },
        "id": "txuy4SGzMiNA",
        "outputId": "058c1a13-9039-4420-e777-58cb0714917f"
      },
      "source": [
        "all_path_data =[]\n",
        "for p in data_read_path:\n",
        "  main_data, list_tag, minimum_time, maximum_time = time_arrange_data(load_raw_file(p))\n",
        "  distance_array, distance_array_in_zero = compute_distance_array(main_data, list_tag, minimum_time, maximum_time)\n",
        "  movment_array = movment_array_creat(main_data, list_tag, minimum_time, maximum_time)\n",
        "  correlations = correlations_generator(movment_array, distance_array, distance_array_in_zero)\n",
        "  gm = GMM_compute(main_data, list_tag, minimum_time, maximum_time)\n",
        "  all_cor_for_pos_list = get_correlations_places(main_data, list_tag, minimum_time, maximum_time,gm)\n",
        "  all_path_data.append((all_cor_for_pos_list, gm.means_, list_tag, correlations))\n",
        "  print(list_tag)\n",
        "  print(\"Done! Part1!\")"
      ],
      "execution_count": 178,
      "outputs": [
        {
          "output_type": "stream",
          "text": [
            "Done! func1!\n",
            "[1.61221128e+09 1.61221128e+09 1.61221128e+09 ... 1.61231476e+09\n",
            " 1.61231476e+09 1.61231476e+09]\n",
            "1612211276.0 1612314761.0\n",
            "<class 'numpy.float64'>\n",
            "Done! func2!\n",
            "[[ 42316.25653768]\n",
            " [129434.14192009]\n",
            " [104228.81668501]\n",
            " [ 49253.43133102]]\n",
            "[1. 2. 4. 5.]\n",
            "[[0.        ]\n",
            " [1.        ]\n",
            " [0.71067565]\n",
            " [0.07962974]]\n",
            "[[479.16255011 156.59068333]\n",
            " [407.78739461 247.50785312]\n",
            " [227.02128733  76.39671987]]\n",
            "[0.66716995 0.229917   0.10291306]\n",
            "[1. 2. 4. 5.]\n",
            "Done! Part1!\n"
          ],
          "name": "stdout"
        },
        {
          "output_type": "stream",
          "text": [
            "/usr/local/lib/python3.7/dist-packages/ipykernel_launcher.py:9: VisibleDeprecationWarning: Creating an ndarray from ragged nested sequences (which is a list-or-tuple of lists-or-tuples-or ndarrays with different lengths or shapes) is deprecated. If you meant to do this, you must specify 'dtype=object' when creating the ndarray\n",
            "  if __name__ == '__main__':\n",
            "/usr/local/lib/python3.7/dist-packages/ipykernel_launcher.py:9: VisibleDeprecationWarning: Creating an ndarray from ragged nested sequences (which is a list-or-tuple of lists-or-tuples-or ndarrays with different lengths or shapes) is deprecated. If you meant to do this, you must specify 'dtype=object' when creating the ndarray\n",
            "  if __name__ == '__main__':\n",
            "/usr/local/lib/python3.7/dist-packages/ipykernel_launcher.py:9: VisibleDeprecationWarning: Creating an ndarray from ragged nested sequences (which is a list-or-tuple of lists-or-tuples-or ndarrays with different lengths or shapes) is deprecated. If you meant to do this, you must specify 'dtype=object' when creating the ndarray\n",
            "  if __name__ == '__main__':\n"
          ],
          "name": "stderr"
        },
        {
          "output_type": "stream",
          "text": [
            "Done! func1!\n",
            "[1.61271258e+09 1.61271259e+09 1.61271260e+09 ... 1.61301981e+09\n",
            " 1.61301981e+09 1.61301981e+09]\n",
            "1612712585.0 1613019814.0\n",
            "<class 'numpy.float64'>\n"
          ],
          "name": "stdout"
        },
        {
          "output_type": "stream",
          "text": [
            "/usr/local/lib/python3.7/dist-packages/numpy/core/fromnumeric.py:3373: RuntimeWarning: Mean of empty slice.\n",
            "  out=out, **kwargs)\n",
            "/usr/local/lib/python3.7/dist-packages/numpy/core/_methods.py:163: RuntimeWarning: invalid value encountered in true_divide\n",
            "  ret, rcount, out=ret, casting='unsafe', subok=False)\n"
          ],
          "name": "stderr"
        },
        {
          "output_type": "stream",
          "text": [
            "Done! func2!\n",
            "[[507557.13209964]\n",
            " [375094.28882586]\n",
            " [170200.57097436]\n",
            " [232470.5908346 ]]\n",
            "[0. 1. 4. 5.]\n",
            "[[1.        ]\n",
            " [0.60735062]\n",
            " [0.        ]\n",
            " [0.18458221]]\n",
            "[[245.04558977 157.91161968]\n",
            " [445.11407465 250.57759661]\n",
            " [458.17968834 137.89447284]]\n",
            "[0.21374087 0.18932657 0.59693256]\n",
            "[0. 1. 4. 5.]\n",
            "Done! Part1!\n"
          ],
          "name": "stdout"
        },
        {
          "output_type": "stream",
          "text": [
            "/usr/local/lib/python3.7/dist-packages/ipykernel_launcher.py:9: VisibleDeprecationWarning: Creating an ndarray from ragged nested sequences (which is a list-or-tuple of lists-or-tuples-or ndarrays with different lengths or shapes) is deprecated. If you meant to do this, you must specify 'dtype=object' when creating the ndarray\n",
            "  if __name__ == '__main__':\n",
            "/usr/local/lib/python3.7/dist-packages/ipykernel_launcher.py:9: VisibleDeprecationWarning: Creating an ndarray from ragged nested sequences (which is a list-or-tuple of lists-or-tuples-or ndarrays with different lengths or shapes) is deprecated. If you meant to do this, you must specify 'dtype=object' when creating the ndarray\n",
            "  if __name__ == '__main__':\n",
            "/usr/local/lib/python3.7/dist-packages/ipykernel_launcher.py:9: VisibleDeprecationWarning: Creating an ndarray from ragged nested sequences (which is a list-or-tuple of lists-or-tuples-or ndarrays with different lengths or shapes) is deprecated. If you meant to do this, you must specify 'dtype=object' when creating the ndarray\n",
            "  if __name__ == '__main__':\n"
          ],
          "name": "stderr"
        },
        {
          "output_type": "stream",
          "text": [
            "Done! func1!\n",
            "[1.61338640e+09 1.61338640e+09 1.61338640e+09 ... 1.61372624e+09\n",
            " 1.61372625e+09 1.61372625e+09]\n",
            "1613386397.0 1613726250.0\n",
            "<class 'numpy.float64'>\n"
          ],
          "name": "stdout"
        },
        {
          "output_type": "stream",
          "text": [
            "/usr/local/lib/python3.7/dist-packages/numpy/core/fromnumeric.py:3373: RuntimeWarning: Mean of empty slice.\n",
            "  out=out, **kwargs)\n",
            "/usr/local/lib/python3.7/dist-packages/numpy/core/_methods.py:163: RuntimeWarning: invalid value encountered in true_divide\n",
            "  ret, rcount, out=ret, casting='unsafe', subok=False)\n"
          ],
          "name": "stderr"
        },
        {
          "output_type": "stream",
          "text": [
            "Done! func2!\n",
            "[[163689.42420056]\n",
            " [215305.88040648]\n",
            " [211549.04589293]\n",
            " [257592.85676558]]\n",
            "[0. 1. 4. 5.]\n",
            "[[0.        ]\n",
            " [0.54967593]\n",
            " [0.5096685 ]\n",
            " [1.        ]]\n",
            "[[457.83542713 109.88997004]\n",
            " [402.17243259 152.62157801]\n",
            " [172.58935656 143.5249862 ]]\n",
            "[0.52153138 0.37941692 0.0990517 ]\n",
            "[0. 1. 4. 5.]\n",
            "Done! Part1!\n"
          ],
          "name": "stdout"
        },
        {
          "output_type": "stream",
          "text": [
            "/usr/local/lib/python3.7/dist-packages/ipykernel_launcher.py:9: VisibleDeprecationWarning: Creating an ndarray from ragged nested sequences (which is a list-or-tuple of lists-or-tuples-or ndarrays with different lengths or shapes) is deprecated. If you meant to do this, you must specify 'dtype=object' when creating the ndarray\n",
            "  if __name__ == '__main__':\n",
            "/usr/local/lib/python3.7/dist-packages/ipykernel_launcher.py:9: VisibleDeprecationWarning: Creating an ndarray from ragged nested sequences (which is a list-or-tuple of lists-or-tuples-or ndarrays with different lengths or shapes) is deprecated. If you meant to do this, you must specify 'dtype=object' when creating the ndarray\n",
            "  if __name__ == '__main__':\n",
            "/usr/local/lib/python3.7/dist-packages/ipykernel_launcher.py:9: VisibleDeprecationWarning: Creating an ndarray from ragged nested sequences (which is a list-or-tuple of lists-or-tuples-or ndarrays with different lengths or shapes) is deprecated. If you meant to do this, you must specify 'dtype=object' when creating the ndarray\n",
            "  if __name__ == '__main__':\n"
          ],
          "name": "stderr"
        },
        {
          "output_type": "stream",
          "text": [
            "Done! func1!\n",
            "[1.61411390e+09 1.61411390e+09 1.61411390e+09 ... 1.61453105e+09\n",
            " 1.61453107e+09 1.61453110e+09]\n",
            "1614113898.0 1614531103.0\n",
            "<class 'numpy.float64'>\n"
          ],
          "name": "stdout"
        },
        {
          "output_type": "stream",
          "text": [
            "/usr/local/lib/python3.7/dist-packages/numpy/core/fromnumeric.py:3373: RuntimeWarning: Mean of empty slice.\n",
            "  out=out, **kwargs)\n",
            "/usr/local/lib/python3.7/dist-packages/numpy/core/_methods.py:163: RuntimeWarning: invalid value encountered in true_divide\n",
            "  ret, rcount, out=ret, casting='unsafe', subok=False)\n"
          ],
          "name": "stderr"
        },
        {
          "output_type": "stream",
          "text": [
            "Done! func2!\n",
            "[[584169.65043557]\n",
            " [594080.89106847]\n",
            " [732070.90220918]\n",
            " [710548.50030731]\n",
            " [421833.72255395]\n",
            " [400149.51941172]]\n",
            "[0. 1. 2. 3. 4. 5.]\n",
            "[[0.55440879]\n",
            " [0.58426899]\n",
            " [1.        ]\n",
            " [0.93515813]\n",
            " [0.06532933]\n",
            " [0.        ]]\n",
            "[[491.34707061 361.08626483]\n",
            " [195.5335686   90.84563593]\n",
            " [437.06833749 199.45105894]]\n",
            "[0.37686017 0.16907721 0.45406262]\n",
            "[0. 1. 2. 3. 4. 5.]\n",
            "Done! Part1!\n"
          ],
          "name": "stdout"
        },
        {
          "output_type": "stream",
          "text": [
            "/usr/local/lib/python3.7/dist-packages/ipykernel_launcher.py:9: VisibleDeprecationWarning: Creating an ndarray from ragged nested sequences (which is a list-or-tuple of lists-or-tuples-or ndarrays with different lengths or shapes) is deprecated. If you meant to do this, you must specify 'dtype=object' when creating the ndarray\n",
            "  if __name__ == '__main__':\n",
            "/usr/local/lib/python3.7/dist-packages/ipykernel_launcher.py:9: VisibleDeprecationWarning: Creating an ndarray from ragged nested sequences (which is a list-or-tuple of lists-or-tuples-or ndarrays with different lengths or shapes) is deprecated. If you meant to do this, you must specify 'dtype=object' when creating the ndarray\n",
            "  if __name__ == '__main__':\n",
            "/usr/local/lib/python3.7/dist-packages/ipykernel_launcher.py:9: VisibleDeprecationWarning: Creating an ndarray from ragged nested sequences (which is a list-or-tuple of lists-or-tuples-or ndarrays with different lengths or shapes) is deprecated. If you meant to do this, you must specify 'dtype=object' when creating the ndarray\n",
            "  if __name__ == '__main__':\n"
          ],
          "name": "stderr"
        },
        {
          "output_type": "stream",
          "text": [
            "Done! func1!\n",
            "[1.61470080e+09 1.61470080e+09 1.61470080e+09 ... 1.61516727e+09\n",
            " 1.61516797e+09 1.61516818e+09]\n",
            "1614700802.0 1615168177.0\n",
            "<class 'numpy.float64'>\n"
          ],
          "name": "stdout"
        },
        {
          "output_type": "stream",
          "text": [
            "/usr/local/lib/python3.7/dist-packages/numpy/core/fromnumeric.py:3373: RuntimeWarning: Mean of empty slice.\n",
            "  out=out, **kwargs)\n",
            "/usr/local/lib/python3.7/dist-packages/numpy/core/_methods.py:163: RuntimeWarning: invalid value encountered in true_divide\n",
            "  ret, rcount, out=ret, casting='unsafe', subok=False)\n"
          ],
          "name": "stderr"
        },
        {
          "output_type": "stream",
          "text": [
            "Done! func2!\n",
            "[[486913.35154834]\n",
            " [379502.38409323]\n",
            " [302615.10747695]\n",
            " [497501.7943549 ]\n",
            " [351766.35376138]]\n",
            "[0. 2. 3. 4. 5.]\n",
            "[[0.94566872]\n",
            " [0.39452298]\n",
            " [0.        ]\n",
            " [1.        ]\n",
            " [0.25220423]]\n",
            "[[351.24574065 340.95123419]\n",
            " [492.98461774 114.561954  ]\n",
            " [488.65487898 303.13700194]]\n",
            "[0.08534757 0.35068415 0.56396828]\n",
            "[0. 2. 3. 4. 5.]\n",
            "Done! Part1!\n"
          ],
          "name": "stdout"
        },
        {
          "output_type": "stream",
          "text": [
            "/usr/local/lib/python3.7/dist-packages/ipykernel_launcher.py:9: VisibleDeprecationWarning: Creating an ndarray from ragged nested sequences (which is a list-or-tuple of lists-or-tuples-or ndarrays with different lengths or shapes) is deprecated. If you meant to do this, you must specify 'dtype=object' when creating the ndarray\n",
            "  if __name__ == '__main__':\n",
            "/usr/local/lib/python3.7/dist-packages/ipykernel_launcher.py:9: VisibleDeprecationWarning: Creating an ndarray from ragged nested sequences (which is a list-or-tuple of lists-or-tuples-or ndarrays with different lengths or shapes) is deprecated. If you meant to do this, you must specify 'dtype=object' when creating the ndarray\n",
            "  if __name__ == '__main__':\n",
            "/usr/local/lib/python3.7/dist-packages/ipykernel_launcher.py:9: VisibleDeprecationWarning: Creating an ndarray from ragged nested sequences (which is a list-or-tuple of lists-or-tuples-or ndarrays with different lengths or shapes) is deprecated. If you meant to do this, you must specify 'dtype=object' when creating the ndarray\n",
            "  if __name__ == '__main__':\n"
          ],
          "name": "stderr"
        },
        {
          "output_type": "stream",
          "text": [
            "Done! func1!\n",
            "[1.61547915e+09 1.61547915e+09 1.61547915e+09 ... 1.61593406e+09\n",
            " 1.61593572e+09 1.61593577e+09]\n",
            "1615479152.0 1615935768.0\n",
            "<class 'numpy.float64'>\n"
          ],
          "name": "stdout"
        },
        {
          "output_type": "stream",
          "text": [
            "/usr/local/lib/python3.7/dist-packages/numpy/core/fromnumeric.py:3373: RuntimeWarning: Mean of empty slice.\n",
            "  out=out, **kwargs)\n",
            "/usr/local/lib/python3.7/dist-packages/numpy/core/_methods.py:163: RuntimeWarning: invalid value encountered in true_divide\n",
            "  ret, rcount, out=ret, casting='unsafe', subok=False)\n"
          ],
          "name": "stderr"
        },
        {
          "output_type": "stream",
          "text": [
            "Done! func2!\n",
            "[[232070.11566684]\n",
            " [279359.35664998]\n",
            " [462420.17887049]\n",
            " [227943.67999543]]\n",
            "[0. 2. 3. 5.]\n",
            "[[0.0175985 ]\n",
            " [0.21927859]\n",
            " [1.        ]\n",
            " [0.        ]]\n",
            "[[488.98575447 195.98494352]\n",
            " [499.21475141 339.11821864]\n",
            " [360.72377589 225.97064529]]\n",
            "[0.46426671 0.40066154 0.13507175]\n",
            "[0. 2. 3. 5.]\n",
            "Done! Part1!\n"
          ],
          "name": "stdout"
        },
        {
          "output_type": "stream",
          "text": [
            "/usr/local/lib/python3.7/dist-packages/ipykernel_launcher.py:9: VisibleDeprecationWarning: Creating an ndarray from ragged nested sequences (which is a list-or-tuple of lists-or-tuples-or ndarrays with different lengths or shapes) is deprecated. If you meant to do this, you must specify 'dtype=object' when creating the ndarray\n",
            "  if __name__ == '__main__':\n",
            "/usr/local/lib/python3.7/dist-packages/ipykernel_launcher.py:9: VisibleDeprecationWarning: Creating an ndarray from ragged nested sequences (which is a list-or-tuple of lists-or-tuples-or ndarrays with different lengths or shapes) is deprecated. If you meant to do this, you must specify 'dtype=object' when creating the ndarray\n",
            "  if __name__ == '__main__':\n",
            "/usr/local/lib/python3.7/dist-packages/ipykernel_launcher.py:9: VisibleDeprecationWarning: Creating an ndarray from ragged nested sequences (which is a list-or-tuple of lists-or-tuples-or ndarrays with different lengths or shapes) is deprecated. If you meant to do this, you must specify 'dtype=object' when creating the ndarray\n",
            "  if __name__ == '__main__':\n"
          ],
          "name": "stderr"
        },
        {
          "output_type": "stream",
          "text": [
            "Done! func1!\n",
            "[1.61711246e+09 1.61711254e+09 1.61711254e+09 ... 1.61755570e+09\n",
            " 1.61755570e+09 1.61755571e+09]\n",
            "1617112459.0 1617555706.0\n",
            "<class 'numpy.float64'>\n"
          ],
          "name": "stdout"
        },
        {
          "output_type": "stream",
          "text": [
            "/usr/local/lib/python3.7/dist-packages/numpy/core/fromnumeric.py:3373: RuntimeWarning: Mean of empty slice.\n",
            "  out=out, **kwargs)\n",
            "/usr/local/lib/python3.7/dist-packages/numpy/core/_methods.py:163: RuntimeWarning: invalid value encountered in true_divide\n",
            "  ret, rcount, out=ret, casting='unsafe', subok=False)\n"
          ],
          "name": "stderr"
        },
        {
          "output_type": "stream",
          "text": [
            "Done! func2!\n",
            "[[651328.68445748]\n",
            " [733130.99813999]\n",
            " [583242.60226885]\n",
            " [715132.03461077]]\n",
            "[0. 1. 3. 5.]\n",
            "[[0.45424519]\n",
            " [1.        ]\n",
            " [0.        ]\n",
            " [0.87991757]]\n",
            "[[403.71868088 226.76923054]\n",
            " [184.37900552  91.26395723]\n",
            " [490.89221808 354.94959826]]\n",
            "[0.44236962 0.26499172 0.29263866]\n",
            "[0. 1. 3. 5.]\n",
            "Done! Part1!\n"
          ],
          "name": "stdout"
        },
        {
          "output_type": "stream",
          "text": [
            "/usr/local/lib/python3.7/dist-packages/ipykernel_launcher.py:9: VisibleDeprecationWarning: Creating an ndarray from ragged nested sequences (which is a list-or-tuple of lists-or-tuples-or ndarrays with different lengths or shapes) is deprecated. If you meant to do this, you must specify 'dtype=object' when creating the ndarray\n",
            "  if __name__ == '__main__':\n",
            "/usr/local/lib/python3.7/dist-packages/ipykernel_launcher.py:9: VisibleDeprecationWarning: Creating an ndarray from ragged nested sequences (which is a list-or-tuple of lists-or-tuples-or ndarrays with different lengths or shapes) is deprecated. If you meant to do this, you must specify 'dtype=object' when creating the ndarray\n",
            "  if __name__ == '__main__':\n",
            "/usr/local/lib/python3.7/dist-packages/ipykernel_launcher.py:9: VisibleDeprecationWarning: Creating an ndarray from ragged nested sequences (which is a list-or-tuple of lists-or-tuples-or ndarrays with different lengths or shapes) is deprecated. If you meant to do this, you must specify 'dtype=object' when creating the ndarray\n",
            "  if __name__ == '__main__':\n"
          ],
          "name": "stderr"
        }
      ]
    },
    {
      "cell_type": "code",
      "metadata": {
        "colab": {
          "base_uri": "https://localhost:8080/",
          "height": 761
        },
        "id": "FRohfVOiW7cR",
        "outputId": "572bbebc-318e-49eb-d59e-3d0c431a08c6"
      },
      "source": [
        "posind =0\n",
        "for p in range(len(data_read_path)):\n",
        "  plt.scatter(all_path_data[p][0][posind][:,0],all_path_data[p][0][posind][:,1])\n",
        "    #plt.scatter(all_path_data[p][0][0,:,:])\n",
        " # print(all_path_data[p][0][posind])\n",
        "#model = LinearRegression().fit(x, y)\n",
        "plt.figure()\n",
        "posind =1\n",
        "for p in range(len(data_read_path)):\n",
        "  plt.scatter(all_path_data[p][0][posind][:,0],all_path_data[p][0][posind][:,1])\n",
        "plt.figure()\n",
        "posind =2\n",
        "for p in range(len(data_read_path)):\n",
        "  plt.scatter(all_path_data[p][0][posind][:,0],all_path_data[p][0][posind][:,1])\n",
        "\n",
        "#print(all_path_data[0][0])"
      ],
      "execution_count": 186,
      "outputs": [
        {
          "output_type": "display_data",
          "data": {
            "image/png": "[encoded data removed]",
            "text/plain": [
              "<Figure size 432x288 with 1 Axes>"
            ]
          },
          "metadata": {
            "tags": [],
            "needs_background": "light"
          }
        },
        {
          "output_type": "display_data",
          "data": {
            "image/png": "[encoded data removed]",
            "text/plain": [
              "<Figure size 432x288 with 1 Axes>"
            ]
          },
          "metadata": {
            "tags": [],
            "needs_background": "light"
          }
        },
        {
          "output_type": "display_data",
          "data": {
            "image/png": "[encoded data removed]",
            "text/plain": [
              "<Figure size 432x288 with 1 Axes>"
            ]
          },
          "metadata": {
            "tags": [],
            "needs_background": "light"
          }
        }
      ]
    },
    {
      "cell_type": "code",
      "metadata": {
        "id": "jBlslm0mPA99"
      },
      "source": [
        "#import matplotlib.pyplot as plt\n",
        "\n",
        "#fig= plt.figure()\n",
        "\n",
        "#f = np.array(range(gmmcomp))\n",
        "#for i, txt in enumerate(f):\n",
        "   # plt.annotate(txt, (gm.means_[i,0], gm.means_[i,1]))\n",
        "    \n",
        "#plt.scatter(gm.means_[:, 0], gm.means_[:, 1])\n",
        "#plt.show()\n",
        "#fig.savefig('mapofplaces.png')"
      ],
      "execution_count": 180,
      "outputs": []
    },
    {
      "cell_type": "code",
      "metadata": {
        "colab": {
          "base_uri": "https://localhost:8080/",
          "height": 269
        },
        "id": "nJmdMWg-9gvA",
        "outputId": "c4ceefce-f2d7-4f45-b092-5209bfa385dc"
      },
      "source": [
        "  fig = plt.figure()\n",
        "\n",
        "  for a in range(len(list_tag)):\n",
        "      gmpred = (gm.predict(main_data[a,:,:])   ).astype(int)\n",
        "      #plt.plot(gmpred )\n",
        "      plt.scatter(correlations[a] , len(gmpred[gmpred==0]))\n",
        "      \n",
        "  fig.savefig('dominanceVsHome0.png')"
      ],
      "execution_count": 181,
      "outputs": [
        {
          "output_type": "display_data",
          "data": {
            "image/png": "[encoded data removed]",
            "text/plain": [
              "<Figure size 432x288 with 1 Axes>"
            ]
          },
          "metadata": {
            "tags": [],
            "needs_background": "light"
          }
        }
      ]
    },
    {
      "cell_type": "code",
      "metadata": {
        "colab": {
          "base_uri": "https://localhost:8080/",
          "height": 265
        },
        "id": "0o50k-5oAv4p",
        "outputId": "daa017e5-17bc-454d-8d10-617dbdd1d31b"
      },
      "source": [
        "fig = plt.figure()\n",
        "\n",
        "for a in range(len(list_tag)):\n",
        "    gmpred = (gm.predict(main_data[a,:,:])   ).astype(int)\n",
        "    #plt.plot(gmpred )\n",
        "    plt.scatter(correlations[a] , len(gmpred[gmpred==1]))\n",
        "    \n",
        "fig.savefig('dominanceVsHome1.png')"
      ],
      "execution_count": 182,
      "outputs": [
        {
          "output_type": "display_data",
          "data": {
            "image/png": "[encoded data removed]",
            "text/plain": [
              "<Figure size 432x288 with 1 Axes>"
            ]
          },
          "metadata": {
            "tags": [],
            "needs_background": "light"
          }
        }
      ]
    },
    {
      "cell_type": "code",
      "metadata": {
        "colab": {
          "base_uri": "https://localhost:8080/",
          "height": 265
        },
        "id": "Nz1koj-eklvo",
        "outputId": "43521a44-97f1-4822-99cb-8ba18e30c073"
      },
      "source": [
        "fig = plt.figure()\n",
        "\n",
        "for a in range(len(list_tag)):\n",
        "    gmpred = (gm.predict(main_data[a,:,:])   ).astype(int)\n",
        "    #plt.plot(gmpred )\n",
        "    plt.scatter(correlations[a] , len(gmpred[gmpred==2]))\n",
        "    \n",
        "fig.savefig('dominanceVsHome2.png')"
      ],
      "execution_count": 183,
      "outputs": [
        {
          "output_type": "display_data",
          "data": {
            "image/png": "[encoded data removed]",
            "text/plain": [
              "<Figure size 432x288 with 1 Axes>"
            ]
          },
          "metadata": {
            "tags": [],
            "needs_background": "light"
          }
        }
      ]
    }
  ]
}