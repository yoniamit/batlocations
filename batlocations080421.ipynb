{
  "nbformat": 4,
  "nbformat_minor": 0,
  "metadata": {
    "colab": {
      "name": "Copy of find basket.ipynb",
      "provenance": [],
      "collapsed_sections": [],
      "include_colab_link": true
    },
    "kernelspec": {
      "name": "python3",
      "display_name": "Python 3"
    }
  },
  "cells": [
    {
      "cell_type": "markdown",
      "metadata": {
        "id": "view-in-github",
        "colab_type": "text"
      },
      "source": [
        "<a href=\"https://colab.research.google.com/github/yoniamit/batlocations/blob/main/batlocations080421.ipynb\" target=\"_parent\"><img src=\"https://colab.research.google.com/assets/colab-badge.svg\" alt=\"Open In Colab\"/></a>"
      ]
    },
    {
      "cell_type": "code",
      "metadata": {
        "colab": {
          "base_uri": "https://localhost:8080/"
        },
        "id": "2vizeIq2pgMA",
        "outputId": "40c0ecfd-fdb2-4321-ca98-3b1f777e4b80"
      },
      "source": [
        "from google.colab import drive\n",
        "drive.mount('/content/drive')"
      ],
      "execution_count": 2,
      "outputs": [
        {
          "output_type": "stream",
          "text": [
            "Mounted at /content/drive\n"
          ],
          "name": "stdout"
        }
      ]
    },
    {
      "cell_type": "code",
      "metadata": {
        "id": "dgil14Kj1YnQ"
      },
      "source": [
        "#Imports\n",
        "import math\n",
        "from datetime import datetime\n",
        "import numpy as np\n",
        "\n",
        "\n",
        "\n",
        "#Definations\n",
        "\n",
        "xlb = 320.0  # x left basket\n",
        "ylb = 410.0  # y left basket\n",
        "xrb = 420.0  # x right basket\n",
        "yrb = 60.0  # y right basket\n",
        "basketradius = 40.0  # distance from the center of the basket which count as \"IN\"\n",
        "accuracy_limit = 0.0  # Value for accuracy check #הוספתי\n",
        "data_read_path = \"/content/drive/MyDrive/Python files/20210311-161231IrTimes.txt\" #path_of data to read\n",
        "#data_read_path =  \"/content/drive/MyDrive/Python files/20210223-205817IrTimes.txt\"\n",
        "\n",
        "nans_tresh  = 0.3\n",
        "per_unit = 60\n",
        "\n",
        "\n",
        "\n",
        "\n"
      ],
      "execution_count": 91,
      "outputs": []
    },
    {
      "cell_type": "markdown",
      "metadata": {
        "id": "xdLqthFcSGmd"
      },
      "source": [
        ""
      ]
    },
    {
      "cell_type": "code",
      "metadata": {
        "id": "kX5feDbtIeZs"
      },
      "source": [
        "def load_raw_file(path):\n",
        "  f = open(data_read_path, \"r\")\n",
        "  data = Lines = f.readlines()\n",
        "  list_locations = []\n",
        "  \n",
        "  for line in data:\n",
        "      columns = line.split(\",\")\n",
        "      #print(columns[13] + \" \" + columns[14])\n",
        "\n",
        "      xydata = columns[14].split(\" \")\n",
        "      xydata = [x for x in xydata if x]\n",
        "      xy_accuracy_data = columns[15].split(\" \")  # הוספתי\n",
        "      xy_accuracy_data = [x for x in xy_accuracy_data if x]  # הוספתי\n",
        "      if (len(xydata) != 2) or (len(xy_accuracy_data) != 2):  # הוספתי\n",
        "          continue\n",
        "\n",
        "      x_accuracy_data = (float(xy_accuracy_data[0].replace(\"[\", \"\").replace(\"]\", \"\")))  # הוספתי\n",
        "      y_accuracy_data = (float(xy_accuracy_data[1].replace(\"[\", \"\").replace(\"]\", \"\")))  # הוספתי\n",
        "      if (y_accuracy_data > accuracy_limit) or (x_accuracy_data > accuracy_limit):  # הוספתי\n",
        "          continue\n",
        "\n",
        "      x = (float(xydata[0].replace(\"[\", \"\").replace(\"]\", \"\")))\n",
        "      y = (float(xydata[1].replace(\"[\", \"\").replace(\"]\", \"\")))\n",
        "      dt = datetime.strptime(columns[0] + \" \" + columns[1] ,  \"%Y%m%d %H%M%S\").timestamp()  #20210104\n",
        "      t = np.array([int(columns[13]), dt, x, y])\n",
        "      list_locations += [t]\n",
        "\n",
        "  list_array = np.array(list_locations)\n",
        "\n",
        "  f.close()\n",
        "\n",
        "  print(\"Done! func1!\")\n",
        "\n",
        "  return list_array\n",
        "\n",
        "\n",
        "\n"
      ],
      "execution_count": 92,
      "outputs": []
    },
    {
      "cell_type": "code",
      "metadata": {
        "id": "s2zy5_JqPOSE"
      },
      "source": [
        "def time_arrange_data(list_array):\n",
        "  t = 0\n",
        "  minimum_time = np.min(list_array[:,1])\n",
        "  maximum_time = np.max(list_array[:,1])\n",
        "  time_now = minimum_time\n",
        "  list_tag = np.unique(list_array[:,0])\n",
        "  main_data = np.zeros((len(list_tag),int((maximum_time-minimum_time)/per_unit), 2))\n",
        "\n",
        "\n",
        "\n",
        "\n",
        "  print(list_array[:,1])\n",
        "  print(minimum_time, maximum_time)\n",
        "  print(type(list_tag[0]))\n",
        "\n",
        "  tagids  = list_array[:,0]\n",
        "  dates = list_array[:,1]\n",
        "\n",
        "\n",
        "  while time_now <= (maximum_time - per_unit):\n",
        "    for a in range(len(list_tag)):\n",
        "      main_data[a,t,:] = np.mean(list_array[(tagids == list_tag[a]) & (dates> time_now) & (dates< (time_now + per_unit)) ,2:4],axis = 0)\n",
        "    t += 1  \n",
        "    time_now += per_unit\n",
        "\n",
        "  tag_nans = np.zeros((len(list_tag)))\n",
        "  for a in range(len(list_tag)):\n",
        "    tag_nans[a] = len(main_data[a,np.isnan(main_data[a,:,0]),0])/len(main_data[a,:,0]) > nans_tresh \n",
        "\n",
        "  main_data = main_data[~tag_nans.astype(bool)]\n",
        "  list_tag = list_tag[~tag_nans.astype(bool)]\n",
        "\n",
        "\n",
        "  print(\"Done! func2!\")\n",
        "  return main_data, list_tag"
      ],
      "execution_count": 93,
      "outputs": []
    },
    {
      "cell_type": "code",
      "metadata": {
        "colab": {
          "base_uri": "https://localhost:8080/"
        },
        "id": "71g5V8GLwN97",
        "outputId": "84746634-3153-4842-f08a-6d449ea5dc0f"
      },
      "source": [
        "\n",
        "\n",
        "main_data, list_tag = time_arrange_data(load_raw_file(data_read_path))\n",
        "print(list_tag)\n",
        "print(\"Done! Part1!\")\n"
      ],
      "execution_count": 94,
      "outputs": [
        {
          "output_type": "stream",
          "text": [
            "Done! func1!\n",
            "[1.61547915e+09 1.61547915e+09 1.61547915e+09 ... 1.61593406e+09\n",
            " 1.61593572e+09 1.61593577e+09]\n",
            "1615479152.0 1615935768.0\n",
            "<class 'numpy.float64'>\n"
          ],
          "name": "stdout"
        },
        {
          "output_type": "stream",
          "text": [
            "/usr/local/lib/python3.7/dist-packages/numpy/core/fromnumeric.py:3373: RuntimeWarning: Mean of empty slice.\n",
            "  out=out, **kwargs)\n",
            "/usr/local/lib/python3.7/dist-packages/numpy/core/_methods.py:163: RuntimeWarning: invalid value encountered in true_divide\n",
            "  ret, rcount, out=ret, casting='unsafe', subok=False)\n"
          ],
          "name": "stderr"
        },
        {
          "output_type": "stream",
          "text": [
            "Done! func2!\n",
            "[0. 2. 3. 5.]\n",
            "Done! Part1!\n"
          ],
          "name": "stdout"
        }
      ]
    },
    {
      "cell_type": "code",
      "metadata": {
        "id": "wUnpUOMRbInS"
      },
      "source": [
        "def nan_helper(y):\n",
        "    return np.isnan(y), lambda z: z.nonzero()[0]\n",
        "\n"
      ],
      "execution_count": 96,
      "outputs": []
    },
    {
      "cell_type": "code",
      "metadata": {
        "id": "7iFoEP9Hbpuv",
        "colab": {
          "base_uri": "https://localhost:8080/"
        },
        "outputId": "e06c5f3d-7366-4b1f-dea2-ac813ea1c143"
      },
      "source": [
        "for a in range(len(list_tag)):\n",
        "    y = main_data[a,:,:]\n",
        "    nans, x= nan_helper(y)\n",
        "    y[nans]= np.interp(x(nans), x(~nans), y[~nans])\n",
        "    main_data[a,:,:] = y\n",
        "print(\"Done! Part3!\")"
      ],
      "execution_count": 97,
      "outputs": [
        {
          "output_type": "stream",
          "text": [
            "Done! Part3!\n"
          ],
          "name": "stdout"
        }
      ]
    },
    {
      "cell_type": "code",
      "metadata": {
        "id": "M1daOYfKIhQ9"
      },
      "source": [
        ""
      ],
      "execution_count": null,
      "outputs": []
    },
    {
      "cell_type": "code",
      "metadata": {
        "id": "nqH0GnWpRovk",
        "colab": {
          "base_uri": "https://localhost:8080/",
          "height": 231
        },
        "outputId": "3edec593-69b5-4ca8-a744-dc6abd14e6b7"
      },
      "source": [
        "import matplotlib.pyplot as plt\n",
        "batid=6\n",
        "plt.figure()\n",
        "plt.scatter(main_data[batid,:, 0], main_data[batid,:, 1])\n",
        "plt.show()"
      ],
      "execution_count": 98,
      "outputs": [
        {
          "output_type": "error",
          "ename": "IndexError",
          "evalue": "ignored",
          "traceback": [
            "\u001b[0;31m---------------------------------------------------------------------------\u001b[0m",
            "\u001b[0;31mIndexError\u001b[0m                                Traceback (most recent call last)",
            "\u001b[0;32m<ipython-input-98-6e08cab07427>\u001b[0m in \u001b[0;36m<module>\u001b[0;34m()\u001b[0m\n\u001b[1;32m      2\u001b[0m \u001b[0mbatid\u001b[0m\u001b[0;34m=\u001b[0m\u001b[0;36m6\u001b[0m\u001b[0;34m\u001b[0m\u001b[0;34m\u001b[0m\u001b[0m\n\u001b[1;32m      3\u001b[0m \u001b[0mplt\u001b[0m\u001b[0;34m.\u001b[0m\u001b[0mfigure\u001b[0m\u001b[0;34m(\u001b[0m\u001b[0;34m)\u001b[0m\u001b[0;34m\u001b[0m\u001b[0;34m\u001b[0m\u001b[0m\n\u001b[0;32m----> 4\u001b[0;31m \u001b[0mplt\u001b[0m\u001b[0;34m.\u001b[0m\u001b[0mscatter\u001b[0m\u001b[0;34m(\u001b[0m\u001b[0mmain_data\u001b[0m\u001b[0;34m[\u001b[0m\u001b[0mbatid\u001b[0m\u001b[0;34m,\u001b[0m\u001b[0;34m:\u001b[0m\u001b[0;34m,\u001b[0m \u001b[0;36m0\u001b[0m\u001b[0;34m]\u001b[0m\u001b[0;34m,\u001b[0m \u001b[0mmain_data\u001b[0m\u001b[0;34m[\u001b[0m\u001b[0mbatid\u001b[0m\u001b[0;34m,\u001b[0m\u001b[0;34m:\u001b[0m\u001b[0;34m,\u001b[0m \u001b[0;36m1\u001b[0m\u001b[0;34m]\u001b[0m\u001b[0;34m)\u001b[0m\u001b[0;34m\u001b[0m\u001b[0;34m\u001b[0m\u001b[0m\n\u001b[0m\u001b[1;32m      5\u001b[0m \u001b[0mplt\u001b[0m\u001b[0;34m.\u001b[0m\u001b[0mshow\u001b[0m\u001b[0;34m(\u001b[0m\u001b[0;34m)\u001b[0m\u001b[0;34m\u001b[0m\u001b[0;34m\u001b[0m\u001b[0m\n",
            "\u001b[0;31mIndexError\u001b[0m: index 6 is out of bounds for axis 0 with size 4"
          ]
        },
        {
          "output_type": "display_data",
          "data": {
            "text/plain": [
              "<Figure size 432x288 with 0 Axes>"
            ]
          },
          "metadata": {
            "tags": []
          }
        }
      ]
    },
    {
      "cell_type": "code",
      "metadata": {
        "colab": {
          "base_uri": "https://localhost:8080/",
          "height": 231
        },
        "id": "LB3cEmezg0qN",
        "outputId": "68086f3e-01d9-4139-dd35-5af54cfe7ad2"
      },
      "source": [
        "import matplotlib.pyplot as plt\n",
        "\n",
        "plt.figure()\n",
        "plt.plot(main_data[6,:,0])\n",
        "plt.show()"
      ],
      "execution_count": 99,
      "outputs": [
        {
          "output_type": "error",
          "ename": "IndexError",
          "evalue": "ignored",
          "traceback": [
            "\u001b[0;31m---------------------------------------------------------------------------\u001b[0m",
            "\u001b[0;31mIndexError\u001b[0m                                Traceback (most recent call last)",
            "\u001b[0;32m<ipython-input-99-7ab8a6ae41e2>\u001b[0m in \u001b[0;36m<module>\u001b[0;34m()\u001b[0m\n\u001b[1;32m      2\u001b[0m \u001b[0;34m\u001b[0m\u001b[0m\n\u001b[1;32m      3\u001b[0m \u001b[0mplt\u001b[0m\u001b[0;34m.\u001b[0m\u001b[0mfigure\u001b[0m\u001b[0;34m(\u001b[0m\u001b[0;34m)\u001b[0m\u001b[0;34m\u001b[0m\u001b[0;34m\u001b[0m\u001b[0m\n\u001b[0;32m----> 4\u001b[0;31m \u001b[0mplt\u001b[0m\u001b[0;34m.\u001b[0m\u001b[0mplot\u001b[0m\u001b[0;34m(\u001b[0m\u001b[0mmain_data\u001b[0m\u001b[0;34m[\u001b[0m\u001b[0;36m6\u001b[0m\u001b[0;34m,\u001b[0m\u001b[0;34m:\u001b[0m\u001b[0;34m,\u001b[0m\u001b[0;36m0\u001b[0m\u001b[0;34m]\u001b[0m\u001b[0;34m)\u001b[0m\u001b[0;34m\u001b[0m\u001b[0;34m\u001b[0m\u001b[0m\n\u001b[0m\u001b[1;32m      5\u001b[0m \u001b[0mplt\u001b[0m\u001b[0;34m.\u001b[0m\u001b[0mshow\u001b[0m\u001b[0;34m(\u001b[0m\u001b[0;34m)\u001b[0m\u001b[0;34m\u001b[0m\u001b[0;34m\u001b[0m\u001b[0m\n",
            "\u001b[0;31mIndexError\u001b[0m: index 6 is out of bounds for axis 0 with size 4"
          ]
        },
        {
          "output_type": "display_data",
          "data": {
            "text/plain": [
              "<Figure size 432x288 with 0 Axes>"
            ]
          },
          "metadata": {
            "tags": []
          }
        }
      ]
    },
    {
      "cell_type": "code",
      "metadata": {
        "colab": {
          "base_uri": "https://localhost:8080/"
        },
        "id": "8_1jRt0uidDc",
        "outputId": "5b4792b1-afcf-40e2-dee4-3cd091d8c8a3"
      },
      "source": [
        "\n",
        "\n",
        "time_now = minimum_time\n",
        "t = 0\n",
        "distance_array = np.zeros((len(list_tag),int((maximum_time-minimum_time)/per_unit)))\n",
        "\n",
        "while time_now <= (maximum_time - per_unit):\n",
        "  for a in range(len(list_tag)):\n",
        "    my_pos = main_data[a,t,:]\n",
        "    all_pos = main_data[:,t,:]\n",
        "    other_bats_pos = np.delete(all_pos,a, 0)\n",
        "    dist = []\n",
        "    for pos in other_bats_pos:\n",
        "      dist += [np.mean(np.linalg.norm(my_pos - pos))]\n",
        "    dist = np.array(dist)\n",
        "    dist = np.mean(dist)\n",
        "    distance_array[a,t] = dist\n",
        "  t += 1  \n",
        "  time_now += per_unit\n",
        "\n",
        "print(distance_array)"
      ],
      "execution_count": 100,
      "outputs": [
        {
          "output_type": "stream",
          "text": [
            "[[247.75048212 244.37961438 191.11708509 ...   7.77192646  10.9613417\n",
            "   46.08498554]\n",
            " [359.98239043 358.61177051 351.39719068 ...   8.63633556   5.54556226\n",
            "   39.97832817]\n",
            " [216.40807716 214.51139945 196.90959987 ...   7.81145996   4.97893204\n",
            "  103.22872396]\n",
            " [273.29941314 269.48724802 243.99240195 ...   9.79718873   4.73622233\n",
            "   39.05566127]]\n"
          ],
          "name": "stdout"
        }
      ]
    },
    {
      "cell_type": "code",
      "metadata": {
        "colab": {
          "base_uri": "https://localhost:8080/"
        },
        "id": "8Y7JIAaRpigq",
        "outputId": "3d63beea-9085-4231-b877-1106cf959712"
      },
      "source": [
        "time_now = minimum_time + per_unit\n",
        "t = 1\n",
        "movment_array = np.zeros((len(list_tag),int((maximum_time-minimum_time)/per_unit)))\n",
        "\n",
        "while time_now <= (maximum_time - per_unit):\n",
        "  for a in range(len(list_tag)):\n",
        "    my_pos = main_data[a,t,:]\n",
        "    mt_prev_pos = main_data[a,t -1,:]\n",
        "    thedistance = np.linalg.norm(my_pos - mt_prev_pos)\n",
        "    movment_array[a,t-1] = (thedistance )\n",
        "  t += 1  \n",
        "  time_now += per_unit\n",
        "\n",
        "print(movment_array)\n",
        "correlations = []\n",
        "for a in range(len(list_tag)):\n",
        "  correlations.append(np.correlate(movment_array[a,:],distance_array[a,:]))\n",
        "\n",
        "\n",
        "correlations = np.array(correlations)\n",
        "print(correlations)\n",
        "print(list_tag)"
      ],
      "execution_count": 101,
      "outputs": [
        {
          "output_type": "stream",
          "text": [
            "[[7.49615669e+00 8.37556357e+01 1.47330439e+02 ... 1.57134840e-01\n",
            "  1.30052221e+00 0.00000000e+00]\n",
            " [9.88827713e+00 4.64991703e+00 1.85523853e+00 ... 5.47596106e-02\n",
            "  5.54930130e+00 0.00000000e+00]\n",
            " [3.32034566e+00 3.11486009e+00 7.11345560e+01 ... 1.11803399e+01\n",
            "  9.87110812e+01 0.00000000e+00]\n",
            " [3.41443630e-01 4.52753961e-01 1.10790939e+01 ... 1.97465948e+00\n",
            "  2.81513765e+00 0.00000000e+00]]\n",
            "[[14589349.58311252]\n",
            " [12238630.73576199]\n",
            " [23474832.7265187 ]\n",
            " [ 9681047.28447926]]\n",
            "[0. 2. 3. 5.]\n"
          ],
          "name": "stdout"
        }
      ]
    },
    {
      "cell_type": "code",
      "metadata": {
        "colab": {
          "base_uri": "https://localhost:8080/",
          "height": 1000
        },
        "id": "xa-zxtblIjlk",
        "outputId": "19ffc906-cf9b-4dd5-92f2-7002acd6e700"
      },
      "source": [
        "import numpy as np\n",
        "from sklearn.mixture import GaussianMixture\n",
        "maindatashape = np.shape(main_data)\n",
        "f = np.reshape([main_data[:,:,:] ] , (maindatashape[0]*maindatashape[1] , 2) )\n",
        "gmmcomp = 3\n",
        "gm = GaussianMixture(n_components=gmmcomp, random_state=0).fit( f )\n",
        "print(gm.means_)\n",
        "print(gm.weights_)\n",
        "\n",
        "fig , axs= plt.subplots(len(list_tag) ,figsize=(20,20), sharey=True)\n",
        "for a in range(len(list_tag)):\n",
        "    gmpred = gm.predict(main_data[a,:,:])\n",
        "    \n",
        "    axs[a].set_title(\"dominance is : \" + str(correlations[a]))\n",
        "    axs[a].hist(gmpred , bins = range(gmmcomp+1))\n",
        "fig.savefig('result1.png')\n"
      ],
      "execution_count": 102,
      "outputs": [
        {
          "output_type": "stream",
          "text": [
            "[[500.06363144 350.07147761]\n",
            " [348.29761615 297.81540821]\n",
            " [492.98724281 142.39960667]]\n",
            "[0.44225522 0.17900757 0.37873721]\n"
          ],
          "name": "stdout"
        },
        {
          "output_type": "display_data",
          "data": {
            "image/png": "[encoded data removed]",
            "text/plain": [
              "<Figure size 1440x1440 with 4 Axes>"
            ]
          },
          "metadata": {
            "tags": [],
            "needs_background": "light"
          }
        }
      ]
    },
    {
      "cell_type": "code",
      "metadata": {
        "colab": {
          "base_uri": "https://localhost:8080/",
          "height": 265
        },
        "id": "jBlslm0mPA99",
        "outputId": "de36f7f0-0098-4c67-d3d0-59f9a2f06e3f"
      },
      "source": [
        "import matplotlib.pyplot as plt\n",
        "\n",
        "fig= plt.figure()\n",
        "\n",
        "f = np.array(range(gmmcomp))\n",
        "for i, txt in enumerate(f):\n",
        "    plt.annotate(txt, (gm.means_[i,0], gm.means_[i,1]))\n",
        "    \n",
        "plt.scatter(gm.means_[:, 0], gm.means_[:, 1])\n",
        "plt.show()\n",
        "fig.savefig('mapofplaces.png')"
      ],
      "execution_count": 107,
      "outputs": [
        {
          "output_type": "display_data",
          "data": {
            "image/png": "[encoded data removed]",
            "text/plain": [
              "<Figure size 432x288 with 1 Axes>"
            ]
          },
          "metadata": {
            "tags": [],
            "needs_background": "light"
          }
        }
      ]
    },
    {
      "cell_type": "code",
      "metadata": {
        "colab": {
          "base_uri": "https://localhost:8080/",
          "height": 279
        },
        "id": "nJmdMWg-9gvA",
        "outputId": "79eebaa9-3226-4a5c-dce7-948e51ebfaa2"
      },
      "source": [
        "fig = plt.figure()\n",
        "\n",
        "for a in range(len(list_tag)):\n",
        "    gmpred = (gm.predict(main_data[a,:,:])   ).astype(int)\n",
        "    #plt.plot(gmpred )\n",
        "    plt.scatter(correlations[a] , len(gmpred[gmpred==0]))\n",
        "    \n",
        "fig.savefig('dominanceVsHome0.png')"
      ],
      "execution_count": 111,
      "outputs": [
        {
          "output_type": "display_data",
          "data": {
            "image/png": "[encoded data removed]",
            "text/plain": [
              "<Figure size 432x288 with 1 Axes>"
            ]
          },
          "metadata": {
            "tags": [],
            "needs_background": "light"
          }
        }
      ]
    },
    {
      "cell_type": "code",
      "metadata": {
        "colab": {
          "base_uri": "https://localhost:8080/",
          "height": 278
        },
        "id": "0o50k-5oAv4p",
        "outputId": "fd362aaa-a910-4dba-a013-190af922e133"
      },
      "source": [
        "fig = plt.figure()\n",
        "\n",
        "for a in range(len(list_tag)):\n",
        "    gmpred = (gm.predict(main_data[a,:,:])   ).astype(int)\n",
        "    #plt.plot(gmpred )\n",
        "    plt.scatter(correlations[a] , len(gmpred[gmpred==1]))\n",
        "    \n",
        "fig.savefig('dominanceVsHome1.png')"
      ],
      "execution_count": 112,
      "outputs": [
        {
          "output_type": "display_data",
          "data": {
            "image/png": "[encoded data removed]",
            "text/plain": [
              "<Figure size 432x288 with 1 Axes>"
            ]
          },
          "metadata": {
            "tags": [],
            "needs_background": "light"
          }
        }
      ]
    },
    {
      "cell_type": "code",
      "metadata": {
        "colab": {
          "base_uri": "https://localhost:8080/",
          "height": 278
        },
        "id": "Nz1koj-eklvo",
        "outputId": "fa0bab64-4f41-4416-d9eb-6ab6dbc02a27"
      },
      "source": [
        "fig = plt.figure()\n",
        "\n",
        "for a in range(len(list_tag)):\n",
        "    gmpred = (gm.predict(main_data[a,:,:])   ).astype(int)\n",
        "    #plt.plot(gmpred )\n",
        "    plt.scatter(correlations[a] , len(gmpred[gmpred==2]))\n",
        "    \n",
        "fig.savefig('dominanceVsHome2.png')"
      ],
      "execution_count": 113,
      "outputs": [
        {
          "output_type": "display_data",
          "data": {
            "image/png": "[encoded data removed]",
            "text/plain": [
              "<Figure size 432x288 with 1 Axes>"
            ]
          },
          "metadata": {
            "tags": [],
            "needs_background": "light"
          }
        }
      ]
    }
  ]
}